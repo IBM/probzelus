{
 "cells": [
  {
   "cell_type": "code",
   "execution_count": 1,
   "metadata": {},
   "outputs": [],
   "source": [
    "import csv\n",
    "import os\n",
    "from math import log10, inf\n",
    "from enum import Enum\n",
    "import numpy as np\n",
    "import matplotlib.pyplot as plt\n",
    "from pprint import pprint"
   ]
  },
  {
   "cell_type": "code",
   "execution_count": 2,
   "metadata": {},
   "outputs": [],
   "source": [
    "class Kind(Enum):\n",
    "    Acc = 'accuracy.csv'\n",
    "    Mem = 'mem-ideal.csv'\n",
    "    Perf = 'perf.csv'\n",
    "    Per_particle = 'per-particles.csv'\n",
    "    Per_step = 'per-step.csv'\n",
    "    Per_step_mem = 'per-step-mem.csv'\n",
    "    Perf_step = 'perf-step.csv'\n",
    "    \n",
    "class Algo(Enum):\n",
    "    # DS = 'ds_nogc'\n",
    "    # BDS = 'ds_bounded'\n",
    "    SDS = 'ds'\n",
    "    PF = 'particles'\n",
    "    SSDS = 'semi_symb'\n",
    "    \n",
    "class Example(Enum):\n",
    "    BetaBernoulli = 'coin'\n",
    "    Gaussian = 'gaussian'\n",
    "    Kalman = 'kalman'\n",
    "    Outlier = 'outlier'\n",
    "    Robot = 'tracker'\n",
    "    Slam = 'slam'\n",
    "    Mtt = 'mtt'\n",
    "    Gtree = 'gtree'\n",
    "    Wheels = 'wheels'\n",
    "    DelayedGPS = 'trackerdelay'\n",
    "    \n",
    "class Data:\n",
    "    def __init__(self, example, algo, kind):\n",
    "        self.filename = os.path.join('..', example.value, algo.value, kind.value)\n",
    "        self.file = None\n",
    "        \n",
    "    def __enter__(self):\n",
    "        self.file = open(self.filename, 'r')\n",
    "        header = [h.strip() for h in self.file.readline().split(',')]\n",
    "        return csv.DictReader(self.file, fieldnames=header, quoting=csv.QUOTE_NONNUMERIC)\n",
    "    \n",
    "    def __exit__(self, exc_type, exc_value, exc_traceback):\n",
    "        self.file.close()"
   ]
  },
  {
   "cell_type": "code",
   "execution_count": 3,
   "metadata": {},
   "outputs": [],
   "source": [
    "def get_baseline(example, algo=Algo.SDS, particles=500):\n",
    "    with Data(example, algo, Kind.Acc) as accuracy, Data(example, algo, Kind.Perf) as perf:\n",
    "        acc = next(row['median'] for row in accuracy if row['particles'] == particles)\n",
    "        perf = next(row['median'] for row in perf if row['particles'] == particles)\n",
    "        return acc, perf"
   ]
  },
  {
   "cell_type": "code",
   "execution_count": 4,
   "metadata": {},
   "outputs": [],
   "source": [
    "def get_crossing_point(example, algo, baseline={}):\n",
    "    b_acc, b_perf = get_baseline(example, **baseline)\n",
    "    with Data(example, algo, Kind.Acc) as accuracy, Data(example, algo, Kind.Perf) as perf:\n",
    "            cond = lambda x: abs(log10(x) - log10(b_acc)) <= 0.5\n",
    "            particles = next(row['particles'] for row in accuracy if cond(row['upper quantile']))\n",
    "            return next(\n",
    "                (particles, row['time in ms lower quantile'], row['median'], row['upper quantile'])\n",
    "                for row in perf if row['particles'] == particles)"
   ]
  },
  {
   "cell_type": "code",
   "execution_count": 5,
   "metadata": {},
   "outputs": [],
   "source": [
    "def get_results(baseline={}):\n",
    "    res = {}\n",
    "    for example in Example:\n",
    "        res[example.name] = {}\n",
    "        for algo in Algo:\n",
    "            try:\n",
    "                (particles, lower, median, upper) = get_crossing_point(example, algo, baseline)\n",
    "            except(StopIteration, IOError):\n",
    "                (particles, lower, median, upper) = (inf, 0, 0, 0)\n",
    "            res[example.name][algo.name] = {\n",
    "                'particles': particles,\n",
    "                'lower': lower,\n",
    "                'median': median,\n",
    "                'upper': upper }\n",
    "    return res"
   ]
  },
  {
   "cell_type": "code",
   "execution_count": 6,
   "metadata": {},
   "outputs": [],
   "source": [
    "def plot(results): \n",
    "    barWidth = 0.25\n",
    " \n",
    "    bars1 = [results[ex.name]['PF']['median'] for ex in Example]\n",
    "    bars2 = [results[ex.name]['SDS']['median'] for ex in Example]\n",
    "    bars3 = [results[ex.name]['SSDS']['median'] for ex in Example]\n",
    " \n",
    "    r1 = np.arange(len(bars1))\n",
    "    r2 = [x + barWidth for x in r1]\n",
    "    r3 = [x + barWidth for x in r2]\n",
    " \n",
    "    plt.bar(r1, bars1, width=barWidth, edgecolor='white', alpha=0.75)\n",
    "    plt.bar(r2, bars2, width=barWidth, edgecolor='white', alpha=0.75)\n",
    "    plt.bar(r3, bars3, width=barWidth, edgecolor='white', alpha=0.75)\n",
    " \n",
    "    plt.xticks([r + barWidth for r in range(len(bars1))], [ex.name for ex in Example])\n",
    "    plt.yscale('log')\n",
    "    plt.xticks(rotation=30)\n",
    "    \n",
    "    plt.show()"
   ]
  },
  {
   "cell_type": "code",
   "execution_count": 7,
   "metadata": {},
   "outputs": [
    {
     "name": "stdout",
     "output_type": "stream",
     "text": [
      "{'BetaBernoulli': {'PF': 200.0, 'SDS': 1.0, 'SSDS': 1.0},\n",
      " 'DelayedGPS': {'PF': 150.0, 'SDS': 9.0, 'SSDS': 1.0},\n",
      " 'Gaussian': {'PF': 3000.0, 'SDS': 150.0, 'SSDS': 150.0},\n",
      " 'Gtree': {'PF': 150.0, 'SDS': 85.0, 'SSDS': 1.0},\n",
      " 'Kalman': {'PF': 15.0, 'SDS': 1.0, 'SSDS': 1.0},\n",
      " 'Mtt': {'PF': 4500.0, 'SDS': 45.0, 'SSDS': inf},\n",
      " 'Outlier': {'PF': 700.0, 'SDS': 65.0, 'SSDS': 65.0},\n",
      " 'Robot': {'PF': 85.0, 'SDS': 1.0, 'SSDS': 1.0},\n",
      " 'Slam': {'PF': inf, 'SDS': 800.0, 'SSDS': 800.0},\n",
      " 'Wheels': {'PF': 500.0, 'SDS': 450.0, 'SSDS': 1.0}}\n"
     ]
    },
    {
     "data": {
      "image/png": "[encoded data removed]",
      "text/plain": [
       "<Figure size 432x288 with 1 Axes>"
      ]
     },
     "metadata": {
      "needs_background": "light"
     },
     "output_type": "display_data"
    }
   ],
   "source": [
    "results = get_results({'algo': Algo.SDS, 'particles': 500})\n",
    "pprint({ex: {algo: results[ex][algo]['particles'] for algo in results[ex]} for ex in results})\n",
    "plot(results)"
   ]
  },
  {
   "cell_type": "code",
   "execution_count": 10,
   "metadata": {},
   "outputs": [
    {
     "name": "stdout",
     "output_type": "stream",
     "text": [
      "Beta-Bernoulli & 200 & \\qres{23.05}{22.54}{23.90} & \\exact & \\qres{0.28}{0.27}{0.28} & \\exact & \\qres{0.65}{0.65}{0.66} \\\\\n",
      "Gaussian-Gaussian & 3000 & \\qres{877.44}{689.04}{890.68} & 150 & \\qres{62.99}{61.69}{65.86} & 150 & \\qres{182.57}{181.40}{183.54} \\\\\n",
      "Kalman-1D & 15 & \\qres{3.27}{3.26}{3.28} & \\exact & \\qres{0.33}{0.33}{0.34} & \\exact & \\qres{1.15}{1.14}{1.15} \\\\\n",
      "Outlier & 700 & \\qres{222.27}{220.76}{223.84} & 65 & \\qres{43.81}{43.45}{46.48} & 65 & \\qres{125.88}{125.27}{128.08} \\\\\n",
      "Robot & 85 & \\qres{771.32}{767.98}{775.51} & \\exact & \\qres{91.44}{90.94}{92.07} & \\exact & \\qres{96.40}{96.21}{97.53} \\\\\n",
      "SLAM &   & \\timeout & 800 & \\qres{2812.55}{2755.99}{2853.89} & 800 & \\qres{5649.30}{5619.59}{5675.81} \\\\\n",
      "MTT &   & \\timeout & 60 & \\qres{2889.11}{2615.76}{3244.30} &   & \\timeout \\\\\n",
      "Tree & 150 & \\qres{35.55}{35.41}{35.68} & 90 & \\qres{58.83}{58.55}{59.74} & \\exact & \\qres{2.67}{2.66}{2.70} \\\\\n",
      "Wheels & 550 & \\qres{246.48}{245.06}{248.75} & 550 & \\qres{699.12}{672.25}{713.64} & \\exact & \\qres{8.04}{8.00}{8.10} \\\\\n",
      "Delayed GPS & 150 & \\qres{1221.00}{1218.76}{1230.67} & 9 & \\qres{304.73}{303.17}{306.31} & \\exact & \\qres{108.55}{108.02}{109.07} \\\\\n",
      "spedup SSDS PF 12.012776723665878\n",
      "spedup SDS SSDS 1.5061984553329686\n",
      "tree spedup SDS SSDS 22.047328536645416\n",
      "wheels spedup SDS SSDS 86.94577672846629\n",
      "delayed GPS spedup SDS SSDS 2.807185759080951\n"
     ]
    },
    {
     "name": "stderr",
     "output_type": "stream",
     "text": [
      "/var/folders/c8/4hf1pcwd0bz7_m5fnnwxjxkw0000gn/T/ipykernel_79750/2609727396.py:50: RuntimeWarning: invalid value encountered in true_divide\n",
      "  print(f\"spedup SSDS PF {np.nanmean(pf / ssds, axis=0)}\")\n"
     ]
    }
   ],
   "source": [
    "# Generate summary table.\n",
    "\n",
    "def to_latex(baseline):\n",
    "    exs = {'BetaBernoulli': 'Beta-Bernoulli',\n",
    "           'Gaussian': 'Gaussian-Gaussian',\n",
    "           'Kalman': 'Kalman-1D',\n",
    "           'Outlier': 'Outlier',\n",
    "           'Robot': 'Robot',\n",
    "           'Slam': 'SLAM',\n",
    "           'Slam-2000': 'SLAM-2000',\n",
    "           'Slam-4000': 'SLAM-4000',\n",
    "           'Mtt': 'MTT',\n",
    "           'Mtt-2000': 'MTT-2000',\n",
    "           'Mtt-4000': 'MTT-4000',\n",
    "           'Gtree' : 'Tree',\n",
    "           'Wheels': 'Wheels',\n",
    "           'DelayedGPS': 'Delayed GPS', }\n",
    "\n",
    "    results = get_results(baseline)\n",
    "    for name, ex  in results.items():\n",
    "        print(exs[name], end=\" \")\n",
    "        for algo in [\"PF\", \"SDS\", \"SSDS\"]:\n",
    "            results = ex[algo]\n",
    "            p = results['particles']\n",
    "            if p < inf:\n",
    "                if p == 1: fp = \"\\\\exact\"\n",
    "                else: fp = f\"{int(p):d}\"\n",
    "            else: fp = \" \"\n",
    "                 \n",
    "            t = results['median']\n",
    "            l = results['lower']\n",
    "            u = results['upper']\n",
    "            if t <= 0.0: ft = \"\\\\timeout\"\n",
    "            else: ft = f\"\\\\qres{{{t:.2f}}}{{{l:.2f}}}{{{u:.2f}}}\"\n",
    "#             else: ft = f\"{t:.2f}(-{100*(t-l)/t:.1f}+{100*(u-t)/t:.1f})\"\n",
    "            print(f\"& {fp} & {ft}\", end=\" \")\n",
    "        print(\"\\\\\\\\\")\n",
    "        \n",
    "to_latex({'algo': Algo.SDS, 'particles': 1000})\n",
    "\n",
    "\n",
    "# Print some stats\n",
    "results = get_results({'algo': Algo.SDS, 'particles': 1000})\n",
    "\n",
    "sds = np.array([ex['SDS']['median'] for _, ex in results.items()])\n",
    "ssds = np.array([ex['SSDS']['median'] for _, ex in results.items()])\n",
    "pf = np.array([ex['PF']['median'] for _, ex in results.items()])\n",
    "\n",
    "\n",
    "print(f\"spedup SSDS PF {np.nanmean(pf / ssds, axis=0)}\")\n",
    "print(f\"spedup SDS SSDS {np.nanmean(ssds / sds, axis=0)}\")\n",
    "\n",
    "print(f\"tree spedup SDS SSDS {results['Gtree']['SDS']['median']/ results['Gtree']['SSDS']['median']}\")\n",
    "print(f\"wheels spedup SDS SSDS {results['Wheels']['SDS']['median']/ results['Wheels']['SSDS']['median']}\")\n",
    "print(f\"delayed GPS spedup SDS SSDS {results['DelayedGPS']['SDS']['median']/ results['DelayedGPS']['SSDS']['median']}\")"
   ]
  },
  {
   "cell_type": "code",
   "execution_count": null,
   "metadata": {},
   "outputs": [],
   "source": [
    "results = get_results({'algo': Algo.SSDS, 'particles': 1000})\n",
    "pprint({ex: {algo: results[ex][algo]['particles'] for algo in results[ex]} for ex in results})\n",
    "plot(results)"
   ]
  },
  {
   "cell_type": "code",
   "execution_count": null,
   "metadata": {},
   "outputs": [],
   "source": [
    "plot(get_results({'algo': Algo.PF, 'particles': 10000}))"
   ]
  },
  {
   "cell_type": "code",
   "execution_count": null,
   "metadata": {},
   "outputs": [],
   "source": [
    "# For Figure 10: timeout after 10,000ms if 10x slower than SDS\n",
    "\n",
    "def get_timeout(example, algo, baseline={}):\n",
    "    _, _, sds_perf, _ = get_crossing_point(example, Algo.SDS, baseline)\n",
    "    with Data(example, algo, Kind.Perf) as perf:\n",
    "        cond = lambda x: x >= sds_perf * 10.\n",
    "        return next(\n",
    "            (row['particles'], row['time in ms lower quantile'], row['median'], row['upper quantile'])  \n",
    "            for row in perf if cond(row['median']))\n",
    "    \n",
    "    \n",
    "def get_results_with_timeout(baseline={}):\n",
    "    res = {}\n",
    "    for example in Example:\n",
    "        res[example.name] = {}\n",
    "        for algo in Algo:\n",
    "            try:\n",
    "                (particles, lower, median, upper) = get_crossing_point(example, algo, baseline)\n",
    "            except(StopIteration, IOError):\n",
    "                (particles, lower, median, upper) = (inf, 0, 0, 0)\n",
    "            try:\n",
    "                (b_particles, b_lower, b_median, b_upper) = get_timeout(example, algo, baseline)\n",
    "                if b_particles < particles and b_median > 10000:\n",
    "                    (particles, lower, median, upper) = (-b_particles, b_lower, b_median, b_upper)\n",
    "            except(StopIteration, IOError):\n",
    "                (particles, lower, median, upper) = (0, 0, 0, 0)\n",
    "            res[example.name][algo.name] = {\n",
    "                'particles': particles,\n",
    "                'lower': lower,\n",
    "                'median': median,\n",
    "                'upper': upper }\n",
    "    return res"
   ]
  },
  {
   "cell_type": "code",
   "execution_count": null,
   "metadata": {},
   "outputs": [],
   "source": [
    "# Result for figure 10.\n",
    "results_timeout = get_results_with_timeout({'algo': Algo.SDS, 'particles': 1000})\n",
    "pprint({ex: {algo: results_timeout[ex][algo]['particles'] for algo in results[ex]} for ex in results_timeout})\n",
    "plot(results_timeout)"
   ]
  },
  {
   "cell_type": "code",
   "execution_count": null,
   "metadata": {},
   "outputs": [],
   "source": [
    "def algo_to_pgf(results, algo):\n",
    "    exs = {'BetaBernoulli': 'Beta-Bernoulli',\n",
    "           'Gaussian': 'Gaussian-Gaussian',\n",
    "           'Kalman': 'Kalman-1D',\n",
    "           'Outlier': 'Outlier',\n",
    "           'Robot': 'Robot',\n",
    "           'Slam': 'SLAM',\n",
    "           'Slam-2000': 'SLAM-2000',\n",
    "           'Slam-4000': 'SLAM-4000',\n",
    "           'Mtt': 'MTT',\n",
    "           'Mtt-2000': 'MTT-2000',\n",
    "           'Mtt-4000': 'MTT-4000',\n",
    "           'Gtree' : 'Tree',\n",
    "           'Wheels': 'Wheels',\n",
    "           'DelayedGPS': 'Delayed GPS', }\n",
    "    print(\"x\\ty\\ty-min\\ty-max\\tp\")\n",
    "    for x in results:\n",
    "        y = results[x][algo.name]['median']\n",
    "        y_max = results[x][algo.name]['upper'] -  y\n",
    "        y_min = y - results[x][algo.name]['lower']\n",
    "        p = int(results[x][algo.name]['particles'])\n",
    "        if p >= 0:\n",
    "            print(f\"{exs[x]}\\t{y}\\t{y_min}\\t{y_max}\\t{p:,d}\")\n",
    "        else:\n",
    "            print(f\"{exs[x]}\\t{9900}\\t{0.0}\\t{0.0}\\t{{> {-p:,d}\\phantom{{XX}}}}\")\n",
    "        \n",
    "def to_pgf(results):\n",
    "    algs = {'PF': '\\particles', 'SDS': '\\sds', 'SSDS': '\\\\ssds'}\n",
    "    for algo in Algo:\n",
    "        print(\"\\pgfplotstableread{\")\n",
    "        algo_to_pgf(results, algo)\n",
    "        print(f\"}}{{{algs[algo.name]}}}\\n\")"
   ]
  },
  {
   "cell_type": "code",
   "execution_count": null,
   "metadata": {},
   "outputs": [],
   "source": [
    "to_pgf(results_timeout)"
   ]
  },
  {
   "cell_type": "code",
   "execution_count": null,
   "metadata": {},
   "outputs": [],
   "source": [
    "# Result for figure 11.\n",
    "pf_2000 = get_results({'algo': Algo.PF, 'particles': 2000})\n",
    "pf_2000_mtt_slam = {ex+'-2000': pf_2000[ex] for ex in pf_2000 if ex in ['Mtt', 'Slam']}\n",
    "pf_4000 = get_results({'algo': Algo.PF, 'particles': 4000})\n",
    "pf_4000_mtt_slam = {ex+'-4000': pf_4000[ex] for ex in pf_4000 if ex in ['Mtt', 'Slam']}\n",
    "alt_baseline_results = {**pf_2000_mtt_slam, **pf_4000_mtt_slam}\n",
    "to_pgf(alt_baseline_results)"
   ]
  },
  {
   "cell_type": "code",
   "execution_count": null,
   "metadata": {},
   "outputs": [],
   "source": []
  }
 ],
 "metadata": {
  "kernelspec": {
   "display_name": "Python 3 (ipykernel)",
   "language": "python",
   "name": "python3"
  },
  "language_info": {
   "codemirror_mode": {
    "name": "ipython",
    "version": 3
   },
   "file_extension": ".py",
   "mimetype": "text/x-python",
   "name": "python",
   "nbconvert_exporter": "python",
   "pygments_lexer": "ipython3",
   "version": "3.8.12"
  }
 },
 "nbformat": 4,
 "nbformat_minor": 4
}
