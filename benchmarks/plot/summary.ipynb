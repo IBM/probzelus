{
 "cells": [
  {
   "cell_type": "code",
   "execution_count": 1,
   "metadata": {},
   "outputs": [],
   "source": [
    "import csv\n",
    "import os\n",
    "from math import log10, inf\n",
    "from enum import Enum\n",
    "import numpy as np\n",
    "import matplotlib.pyplot as plt\n",
    "from pprint import pprint"
   ]
  },
  {
   "cell_type": "code",
   "execution_count": 2,
   "metadata": {},
   "outputs": [],
   "source": [
    "class Kind(Enum):\n",
    "    Acc = 'accuracy.csv'\n",
    "    Mem = 'mem-ideal.csv'\n",
    "    Perf = 'perf.csv'\n",
    "    Per_particle = 'per-particles.csv'\n",
    "    Per_step = 'per-step.csv'\n",
    "    Per_step_mem = 'per-step-mem.csv'\n",
    "    Perf_step = 'perf-step.csv'\n",
    "    \n",
    "class Algo(Enum):\n",
    "    # DS = 'ds_nogc'\n",
    "    # BDS = 'ds_bounded'\n",
    "    SDS = 'ds'\n",
    "    PF = 'particles'\n",
    "    SSDS = 'semi_symb'\n",
    "    \n",
    "class Example(Enum):\n",
    "    BetaBernoulli = 'coin'\n",
    "    Gaussian = 'gaussian'\n",
    "    Kalman = 'kalman'\n",
    "    Outlier = 'outlier'\n",
    "    Robot = 'tracker'\n",
    "    Slam = 'slam'\n",
    "    Mtt = 'mtt'\n",
    "    Gtree = 'gtree'\n",
    "    Wheels = 'wheels'\n",
    "    DelayedGPS = 'trackerdelay'\n",
    "    \n",
    "class Data:\n",
    "    def __init__(self, example, algo, kind):\n",
    "        self.filename = os.path.join('..', example.value, algo.value, kind.value)\n",
    "        self.file = None\n",
    "        \n",
    "    def __enter__(self):\n",
    "        self.file = open(self.filename, 'r')\n",
    "        header = [h.strip() for h in self.file.readline().split(',')]\n",
    "        return csv.DictReader(self.file, fieldnames=header, quoting=csv.QUOTE_NONNUMERIC)\n",
    "    \n",
    "    def __exit__(self, exc_type, exc_value, exc_traceback):\n",
    "        self.file.close()"
   ]
  },
  {
   "cell_type": "code",
   "execution_count": 3,
   "metadata": {},
   "outputs": [],
   "source": [
    "def get_baseline(example, algo=Algo.SDS, particles=500):\n",
    "    with Data(example, algo, Kind.Acc) as accuracy, Data(example, algo, Kind.Perf) as perf:\n",
    "        acc = next(row['median'] for row in accuracy if row['particles'] == particles)\n",
    "        perf = next(row['median'] for row in perf if row['particles'] == particles)\n",
    "        return acc, perf"
   ]
  },
  {
   "cell_type": "code",
   "execution_count": 4,
   "metadata": {},
   "outputs": [],
   "source": [
    "def get_crossing_point(example, algo, baseline={}):\n",
    "    b_acc, b_perf = get_baseline(example, **baseline)\n",
    "    with Data(example, algo, Kind.Acc) as accuracy, Data(example, algo, Kind.Perf) as perf:\n",
    "            cond = lambda x: abs(log10(x) - log10(b_acc)) <= 0.5\n",
    "            particles = next(row['particles'] for row in accuracy if cond(row['upper quantile']))\n",
    "            return next(\n",
    "                (particles, row['time in ms lower quantile'], row['median'], row['upper quantile'])\n",
    "                for row in perf if row['particles'] == particles)"
   ]
  },
  {
   "cell_type": "code",
   "execution_count": 5,
   "metadata": {},
   "outputs": [],
   "source": [
    "def get_results(baseline={}):\n",
    "    res = {}\n",
    "    for example in Example:\n",
    "        res[example.name] = {}\n",
    "        for algo in Algo:\n",
    "            try:\n",
    "                (particles, lower, median, upper) = get_crossing_point(example, algo, baseline)\n",
    "            except(StopIteration, IOError):\n",
    "                (particles, lower, median, upper) = (inf, 0, 0, 0)\n",
    "            res[example.name][algo.name] = {\n",
    "                'particles': particles,\n",
    "                'lower': lower,\n",
    "                'median': median,\n",
    "                'upper': upper }\n",
    "    return res"
   ]
  },
  {
   "cell_type": "code",
   "execution_count": 6,
   "metadata": {},
   "outputs": [],
   "source": [
    "def plot(results): \n",
    "    barWidth = 0.25\n",
    " \n",
    "    bars1 = [results[ex.name]['PF']['median'] for ex in Example]\n",
    "    bars2 = [results[ex.name]['SDS']['median'] for ex in Example]\n",
    "    bars3 = [results[ex.name]['SSDS']['median'] for ex in Example]\n",
    " \n",
    "    r1 = np.arange(len(bars1))\n",
    "    r2 = [x + barWidth for x in r1]\n",
    "    r3 = [x + barWidth for x in r2]\n",
    " \n",
    "    plt.bar(r1, bars1, width=barWidth, edgecolor='white', alpha=0.75)\n",
    "    plt.bar(r2, bars2, width=barWidth, edgecolor='white', alpha=0.75)\n",
    "    plt.bar(r3, bars3, width=barWidth, edgecolor='white', alpha=0.75)\n",
    " \n",
    "    plt.xticks([r + barWidth for r in range(len(bars1))], [ex.name for ex in Example])\n",
    "    plt.yscale('log')\n",
    "    plt.xticks(rotation=30)\n",
    "    \n",
    "    plt.show()"
   ]
  },
  {
   "cell_type": "code",
   "execution_count": 7,
   "metadata": {},
   "outputs": [
    {
     "name": "stdout",
     "output_type": "stream",
     "text": [
      "{'BetaBernoulli': {'PF': 200.0, 'SDS': 1.0, 'SSDS': 1.0},\n",
      " 'DelayedGPS': {'PF': 150.0, 'SDS': 15.0, 'SSDS': 1.0},\n",
      " 'Gaussian': {'PF': 3000.0, 'SDS': 150.0, 'SSDS': 150.0},\n",
      " 'Gtree': {'PF': 150.0, 'SDS': 1.0, 'SSDS': 1.0},\n",
      " 'Kalman': {'PF': 15.0, 'SDS': 1.0, 'SSDS': 1.0},\n",
      " 'Mtt': {'PF': 4000.0, 'SDS': 45.0, 'SSDS': 45.0},\n",
      " 'Outlier': {'PF': 700.0, 'SDS': 65.0, 'SSDS': 60.0},\n",
      " 'Robot': {'PF': 90.0, 'SDS': 1.0, 'SSDS': 1.0},\n",
      " 'Slam': {'PF': inf, 'SDS': 800.0, 'SSDS': 900.0},\n",
      " 'Wheels': {'PF': 450.0, 'SDS': 500.0, 'SSDS': 1.0}}\n"
     ]
    },
    {
     "data": {
      "image/png": "[encoded data removed]",
      "text/plain": [
       "<Figure size 432x288 with 1 Axes>"
      ]
     },
     "metadata": {
      "needs_background": "light"
     },
     "output_type": "display_data"
    }
   ],
   "source": [
    "results = get_results({'algo': Algo.SDS, 'particles': 500})\n",
    "pprint({ex: {algo: results[ex][algo]['particles'] for algo in results[ex]} for ex in results})\n",
    "plot(results)"
   ]
  },
  {
   "cell_type": "code",
   "execution_count": 8,
   "metadata": {},
   "outputs": [
    {
     "name": "stdout",
     "output_type": "stream",
     "text": [
      "{'BetaBernoulli': {'PF': 200.0, 'SDS': 1.0, 'SSDS': 1.0},\n",
      " 'DelayedGPS': {'PF': 150.0, 'SDS': 15.0, 'SSDS': 1.0},\n",
      " 'Gaussian': {'PF': 3000.0, 'SDS': 150.0, 'SSDS': 150.0},\n",
      " 'Gtree': {'PF': 150.0, 'SDS': 1.0, 'SSDS': 1.0},\n",
      " 'Kalman': {'PF': 15.0, 'SDS': 1.0, 'SSDS': 1.0},\n",
      " 'Mtt': {'PF': inf, 'SDS': inf, 'SSDS': inf},\n",
      " 'Outlier': {'PF': 700.0, 'SDS': 65.0, 'SSDS': 60.0},\n",
      " 'Robot': {'PF': 90.0, 'SDS': 1.0, 'SSDS': 1.0},\n",
      " 'Slam': {'PF': inf, 'SDS': 800.0, 'SSDS': 900.0},\n",
      " 'Wheels': {'PF': 750.0, 'SDS': 750.0, 'SSDS': 1.0}}\n"
     ]
    },
    {
     "data": {
      "image/png": "[encoded data removed]",
      "text/plain": [
       "<Figure size 432x288 with 1 Axes>"
      ]
     },
     "metadata": {
      "needs_background": "light"
     },
     "output_type": "display_data"
    }
   ],
   "source": [
    "results = get_results({'algo': Algo.SSDS, 'particles': 1000})\n",
    "pprint({ex: {algo: results[ex][algo]['particles'] for algo in results[ex]} for ex in results})\n",
    "plot(results)"
   ]
  },
  {
   "cell_type": "code",
   "execution_count": 9,
   "metadata": {},
   "outputs": [
    {
     "data": {
      "image/png": "[encoded data removed]",
      "text/plain": [
       "<Figure size 432x288 with 1 Axes>"
      ]
     },
     "metadata": {
      "needs_background": "light"
     },
     "output_type": "display_data"
    }
   ],
   "source": [
    "plot(get_results({'algo': Algo.PF, 'particles': 10000}))"
   ]
  },
  {
   "cell_type": "code",
   "execution_count": 10,
   "metadata": {},
   "outputs": [],
   "source": [
    "# For Figure 10: timeout after 10,000ms if 10x slower than SDS\n",
    "\n",
    "def get_timeout(example, algo, baseline={}):\n",
    "    _, _, sds_perf, _ = get_crossing_point(example, Algo.SDS, baseline)\n",
    "    with Data(example, algo, Kind.Perf) as perf:\n",
    "        cond = lambda x: x >= sds_perf * 10.\n",
    "        return next(\n",
    "            (row['particles'], row['time in ms lower quantile'], row['median'], row['upper quantile'])  \n",
    "            for row in perf if cond(row['median']))\n",
    "    \n",
    "    \n",
    "def get_results_with_timeout(baseline={}):\n",
    "    res = {}\n",
    "    for example in Example:\n",
    "        res[example.name] = {}\n",
    "        for algo in Algo:\n",
    "            try:\n",
    "                (particles, lower, median, upper) = get_crossing_point(example, algo, baseline)\n",
    "            except(StopIteration, IOError):\n",
    "                (particles, lower, median, upper) = (inf, 0, 0, 0)\n",
    "            try:\n",
    "                (b_particles, b_lower, b_median, b_upper) = get_timeout(example, algo, baseline)\n",
    "                if b_particles < particles and b_median > 10000:\n",
    "                    (particles, lower, median, upper) = (-b_particles, b_lower, b_median, b_upper)\n",
    "            except(StopIteration, IOError):\n",
    "                (particles, lower, median, upper) = (0, 0, 0, 0)\n",
    "            res[example.name][algo.name] = {\n",
    "                'particles': particles,\n",
    "                'lower': lower,\n",
    "                'median': median,\n",
    "                'upper': upper }\n",
    "    return res"
   ]
  },
  {
   "cell_type": "code",
   "execution_count": 11,
   "metadata": {},
   "outputs": [
    {
     "name": "stdout",
     "output_type": "stream",
     "text": [
      "{'BetaBernoulli': {'PF': 200.0, 'SDS': 1.0, 'SSDS': 1.0},\n",
      " 'DelayedGPS': {'PF': 150.0, 'SDS': 15.0, 'SSDS': 1.0},\n",
      " 'Gaussian': {'PF': 3000.0, 'SDS': 150.0, 'SSDS': 150.0},\n",
      " 'Gtree': {'PF': 150.0, 'SDS': 1.0, 'SSDS': 1.0},\n",
      " 'Kalman': {'PF': 15.0, 'SDS': 1.0, 'SSDS': 1.0},\n",
      " 'Mtt': {'PF': -2000.0, 'SDS': 60.0, 'SSDS': 60.0},\n",
      " 'Outlier': {'PF': 700.0, 'SDS': 65.0, 'SSDS': 60.0},\n",
      " 'Robot': {'PF': 90.0, 'SDS': 1.0, 'SSDS': 1.0},\n",
      " 'Slam': {'PF': -25000.0, 'SDS': 800.0, 'SSDS': 0},\n",
      " 'Wheels': {'PF': 0, 'SDS': 0, 'SSDS': 1.0}}\n"
     ]
    },
    {
     "data": {
      "image/png": "[encoded data removed]",
      "text/plain": [
       "<Figure size 432x288 with 1 Axes>"
      ]
     },
     "metadata": {
      "needs_background": "light"
     },
     "output_type": "display_data"
    }
   ],
   "source": [
    "# Result for figure 10.\n",
    "results_timeout = get_results_with_timeout({'algo': Algo.SDS, 'particles': 1000})\n",
    "pprint({ex: {algo: results_timeout[ex][algo]['particles'] for algo in results[ex]} for ex in results_timeout})\n",
    "plot(results_timeout)"
   ]
  },
  {
   "cell_type": "code",
   "execution_count": 12,
   "metadata": {},
   "outputs": [],
   "source": [
    "def algo_to_pgf(results, algo):\n",
    "    exs = {'BetaBernoulli': 'Beta-Bernoulli',\n",
    "           'Gaussian': 'Gaussian-Gaussian',\n",
    "           'Kalman': 'Kalman-1D',\n",
    "           'Outlier': 'Outlier',\n",
    "           'Robot': 'Robot',\n",
    "           'Slam': 'SLAM',\n",
    "           'Slam-2000': 'SLAM-2000',\n",
    "           'Slam-4000': 'SLAM-4000',\n",
    "           'Mtt': 'MTT',\n",
    "           'Mtt-2000': 'MTT-2000',\n",
    "           'Mtt-4000': 'MTT-4000',\n",
    "           'Gtree' : 'Tree',\n",
    "           'Wheels': 'Wheels',\n",
    "           'DelayedGPS': 'Delayed GPS', }\n",
    "    print(\"x\\ty\\ty-min\\ty-max\\tp\")\n",
    "    for x in results:\n",
    "        y = results[x][algo.name]['median']\n",
    "        y_max = results[x][algo.name]['upper'] -  y\n",
    "        y_min = y - results[x][algo.name]['lower']\n",
    "        p = int(results[x][algo.name]['particles'])\n",
    "        if p >= 0:\n",
    "            print(f\"{exs[x]}\\t{y}\\t{y_min}\\t{y_max}\\t{p:,d}\")\n",
    "        else:\n",
    "            print(f\"{exs[x]}\\t{9900}\\t{0.0}\\t{0.0}\\t{{> {-p:,d}\\phantom{{XX}}}}\")\n",
    "        \n",
    "def to_pgf(results):\n",
    "    algs = {'PF': '\\particles', 'SDS': '\\sds', 'SSDS': '\\\\ssds'}\n",
    "    for algo in Algo:\n",
    "        print(\"\\pgfplotstableread{\")\n",
    "        algo_to_pgf(results, algo)\n",
    "        print(f\"}}{{{algs[algo.name]}}}\\n\")"
   ]
  },
  {
   "cell_type": "code",
   "execution_count": 13,
   "metadata": {},
   "outputs": [
    {
     "name": "stdout",
     "output_type": "stream",
     "text": [
      "\\pgfplotstableread{\n",
      "x\ty\ty-min\ty-max\tp\n",
      "Beta-Bernoulli\t0.23733\t0.0006379999999999997\t0.005052999999999974\t1\n",
      "Gaussian-Gaussian\t55.773063\t1.1429290000000023\t2.487498000000002\t150\n",
      "Kalman-1D\t0.28526\t0.0004770000000000052\t0.0046519999999999895\t1\n",
      "Outlier\t46.010782\t0.5919469999999976\t3.9644930000000045\t65\n",
      "Robot\t86.239659\t0.2043639999999982\t1.0136889999999994\t1\n",
      "SLAM\t2689.83519\t33.4321759999998\t34.286327000000256\t800\n",
      "MTT\t2813.198281\t250.25719200000003\t387.54829199999995\t60\n",
      "Tree\t0.537831\t0.0013399999999998968\t0.024778000000000078\t1\n",
      "Wheels\t0\t0\t0\t0\n",
      "Delayed GPS\t411.174956\t1.0288419999999974\t1.6844800000000077\t15\n",
      "}{\\sds}\n",
      "\n",
      "\\pgfplotstableread{\n",
      "x\ty\ty-min\ty-max\tp\n",
      "Beta-Bernoulli\t19.938035\t0.42152300000000054\t0.7634030000000003\t200\n",
      "Gaussian-Gaussian\t761.546713\t159.61431499999992\t11.517036000000076\t3,000\n",
      "Kalman-1D\t2.837367\t0.006756999999999902\t0.009091000000000182\t15\n",
      "Outlier\t221.95058\t1.5663160000000005\t2.106279999999998\t700\n",
      "Robot\t709.757351\t1.8667950000000246\t2.053568000000041\t90\n",
      "SLAM\t9900\t0.0\t0.0\t{> 25,000\\phantom{XX}}\n",
      "MTT\t9900\t0.0\t0.0\t{> 2,000\\phantom{XX}}\n",
      "Tree\t31.186938\t0.17461400000000182\t0.17114699999999772\t150\n",
      "Wheels\t0\t0\t0\t0\n",
      "Delayed GPS\t1245.969629\t2.5171490000000176\t4.288970000000063\t150\n",
      "}{\\particles}\n",
      "\n",
      "\\pgfplotstableread{\n",
      "x\ty\ty-min\ty-max\tp\n",
      "Beta-Bernoulli\t0.46569\t0.00171300000000002\t0.023758\t1\n",
      "Gaussian-Gaussian\t185.844715\t1.2263180000000204\t1.2126549999999838\t150\n",
      "Kalman-1D\t0.887057\t0.0026049999999999685\t0.010218999999999978\t1\n",
      "Outlier\t127.2236\t0.37759499999999946\t2.113683000000009\t60\n",
      "Robot\t108.411498\t2.414203999999998\t0.8572150000000107\t1\n",
      "SLAM\t0\t0\t0\t0\n",
      "MTT\t5423.152845\t473.2261919999992\t707.5088110000006\t60\n",
      "Tree\t2.291382\t0.16669599999999996\t0.08894700000000011\t1\n",
      "Wheels\t7.990704\t0.03575000000000017\t0.04090800000000083\t1\n",
      "Delayed GPS\t107.056836\t0.9099890000000102\t0.9217809999999957\t1\n",
      "}{\\ssds}\n",
      "\n"
     ]
    }
   ],
   "source": [
    "to_pgf(results_timeout)"
   ]
  },
  {
   "cell_type": "code",
   "execution_count": 14,
   "metadata": {},
   "outputs": [
    {
     "name": "stdout",
     "output_type": "stream",
     "text": [
      "\\pgfplotstableread{\n",
      "x\ty\ty-min\ty-max\tp\n",
      "SLAM-2000\t0.627153\t0.004562999999999984\t0.00793900000000003\t1\n",
      "MTT-2000\t553.69981\t68.17300599999993\t97.37695700000006\t15\n",
      "SLAM-4000\t0.627153\t0.004562999999999984\t0.00793900000000003\t1\n",
      "MTT-4000\t769.783022\t95.28160099999991\t134.73209000000008\t20\n",
      "}{\\sds}\n",
      "\n",
      "\\pgfplotstableread{\n",
      "x\ty\ty-min\ty-max\tp\n",
      "SLAM-2000\t66.329564\t1.5026710000000065\t1.161878999999999\t200\n",
      "MTT-2000\t4787.159153\t78.48615099999915\t75.89323400000012\t350\n",
      "SLAM-4000\t6957.446859\t126.12583799999993\t117.93252800000027\t7,000\n",
      "MTT-4000\t6228.801116\t98.41449399999965\t106.13206600000012\t450\n",
      "}{\\particles}\n",
      "\n",
      "\\pgfplotstableread{\n",
      "x\ty\ty-min\ty-max\tp\n",
      "SLAM-2000\t4.249846\t0.04891099999999948\t0.03835200000000061\t1\n",
      "MTT-2000\t1480.110448\t168.1174269999999\t266.15866300000016\t20\n",
      "SLAM-4000\t4.249846\t0.04891099999999948\t0.03835200000000061\t1\n",
      "MTT-4000\t1480.110448\t168.1174269999999\t266.15866300000016\t20\n",
      "}{\\ssds}\n",
      "\n"
     ]
    }
   ],
   "source": [
    "# Result for figure 11.\n",
    "pf_2000 = get_results({'algo': Algo.PF, 'particles': 2000})\n",
    "pf_2000_mtt_slam = {ex+'-2000': pf_2000[ex] for ex in pf_2000 if ex in ['Mtt', 'Slam']}\n",
    "pf_4000 = get_results({'algo': Algo.PF, 'particles': 4000})\n",
    "pf_4000_mtt_slam = {ex+'-4000': pf_4000[ex] for ex in pf_4000 if ex in ['Mtt', 'Slam']}\n",
    "alt_baseline_results = {**pf_2000_mtt_slam, **pf_4000_mtt_slam}\n",
    "to_pgf(alt_baseline_results)"
   ]
  },
  {
   "cell_type": "code",
   "execution_count": null,
   "metadata": {},
   "outputs": [],
   "source": []
  },
  {
   "cell_type": "code",
   "execution_count": null,
   "metadata": {},
   "outputs": [],
   "source": []
  }
 ],
 "metadata": {
  "kernelspec": {
   "display_name": "Python 3 (ipykernel)",
   "language": "python",
   "name": "python3"
  },
  "language_info": {
   "codemirror_mode": {
    "name": "ipython",
    "version": 3
   },
   "file_extension": ".py",
   "mimetype": "text/x-python",
   "name": "python",
   "nbconvert_exporter": "python",
   "pygments_lexer": "ipython3",
   "version": "3.8.12"
  }
 },
 "nbformat": 4,
 "nbformat_minor": 2
}
